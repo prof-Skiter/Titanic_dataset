{
 "cells": [
  {
   "cell_type": "code",
   "execution_count": null,
   "metadata": {
    "_cell_guid": "4a8a28f2-db42-4719-8410-62c631bf6638",
    "_uuid": "f38751f717474b3ce265f2ed65860679edc84df1",
    "collapsed": true
   },
   "outputs": [],
   "source": [
    "# data analysis and wrangling\n",
    "import pandas as pd\n",
    "import numpy as np\n",
    "import random as rnd\n",
    "\n",
    "# visualization\n",
    "import seaborn as sns\n",
    "import matplotlib.pyplot as plt\n",
    "%matplotlib inline\n",
    "sns.set()\n",
    "\n",
    "# machine learning\n",
    "import sklearn\n",
    "from sklearn.linear_model import LogisticRegression\n",
    "from sklearn.decomposition import PCA\n",
    "\n",
    "from sklearn import linear_model, decomposition, datasets\n",
    "from sklearn.pipeline import Pipeline\n",
    "from sklearn.model_selection import GridSearchCV"
   ]
  },
  {
   "cell_type": "code",
   "execution_count": null,
   "metadata": {
    "_cell_guid": "9ba23bc2-3c91-4ead-9cab-1a613610bc60",
    "_uuid": "5c2d016679c0b40932c8d1905f8b126210e31eae",
    "collapsed": true
   },
   "outputs": [],
   "source": [
    "train = pd.read_csv('Data/train.csv')\n",
    "test = pd.read_csv('Data/test.csv')"
   ]
  },
  {
   "cell_type": "code",
   "execution_count": null,
   "metadata": {
    "collapsed": true
   },
   "outputs": [],
   "source": [
    "train['Title'] = train.Name.str.extract(' ([A-Za-z]+)\\.', expand=False)\n",
    "test['Title'] = test.Name.str.extract(' ([A-Za-z]+)\\.', expand=False)\n",
    "train['Title'] = train['Title'].fillna('Mr').map( {'Sir':'c','Countess':'a','Ms':'a','Mme':'a','Lady':'a','Mlle':'a','Mrs':'a','Miss':'a','Master':'b','Col':'c','Major':'c','Dr':'c','Mr':'d','Jonkheer':'d','Don':'d','Rev':'d','Capt':'d','Dona':'a'} ).astype('category')\n",
    "test['Title'] = test['Title'].fillna('Mr').map( {'Sir':'c','Countess':'a','Ms':'a','Mme':'a','Lady':'a','Mlle':'a','Mrs':'a','Miss':'a','Master':'b','Col':'c','Major':'c','Dr':'c','Mr':'d','Jonkheer':'d','Don':'d','Rev':'d','Capt':'d','Dona':'a'} ).astype('category')"
   ]
  },
  {
   "cell_type": "code",
   "execution_count": null,
   "metadata": {
    "_cell_guid": "4e4b69ea-6d84-4573-bc06-7dd4cb7359a0",
    "_uuid": "f8d910417d7f44de9fb1a38806cb259e3bc7ca11",
    "collapsed": true,
    "scrolled": true
   },
   "outputs": [],
   "source": [
    "#train['Embarked'] = train['Embarked'].fillna('S').map( {'C': 0, 'Q': 1, 'S': 2} ).astype(int)\n",
    "#train['Sex'] = train['Sex'].map( {'female': 0, 'male': 1} ).astype(int)\n",
    "#test['Embarked'] = test['Embarked'].fillna('S').map({'C': 0, 'Q': 1, 'S': 2}).astype(int)\n",
    "#test['Sex'] = test['Sex'].map( {'female': 0, 'male': 1} ).astype(int)\n",
    "#test.fillna(12, inplace=True)"
   ]
  },
  {
   "cell_type": "code",
   "execution_count": null,
   "metadata": {
    "collapsed": true
   },
   "outputs": [],
   "source": [
    "#train['Pclass'] = train.Pclass.astype('category')\n",
    "train['Sex'] = train.Sex.astype('category')\n",
    "train['SibSp'] = train.SibSp.astype('category')\n",
    "train['Parch'] = train.Parch.astype('category')\n",
    "train['Embarked'] = train.Embarked.astype('category')\n",
    "train['Age_group'] = pd.cut(train['Age'].fillna(0), 10)"
   ]
  },
  {
   "cell_type": "code",
   "execution_count": null,
   "metadata": {
    "collapsed": true
   },
   "outputs": [],
   "source": [
    "#test['Pclass'] = train.Pclass.astype('category')\n",
    "test['Sex'] = train.Sex.astype('category')\n",
    "test['SibSp'] = train.SibSp.astype('category')\n",
    "test['Parch'] = train.Parch.astype('category')\n",
    "test['Embarked'] = train.Embarked.astype('category')\n",
    "test['Age'] = test.Age.fillna(np.mean(test.Age))\n",
    "test['Age_group'] = pd.cut(test['Age'].fillna(0), 10)"
   ]
  },
  {
   "cell_type": "code",
   "execution_count": null,
   "metadata": {
    "_cell_guid": "23e54174-c4b4-4242-9669-3dcc578f4c38",
    "_uuid": "dcb1f2251c2c327181d76f72e1a3fee31c3a9675",
    "collapsed": true,
    "scrolled": true
   },
   "outputs": [],
   "source": [
    "X_train = train[['Pclass', 'Sex', 'SibSp', 'Parch', 'Embarked', 'Age_group', 'Title']]\n",
    "Y_train = train[\"Survived\"]\n",
    "X_test  = test[['Pclass', 'Sex', 'SibSp', 'Parch', 'Embarked', 'Age_group', 'Title']]\n",
    "X_train = pd.get_dummies(X_train)\n",
    "X_test = pd.get_dummies(X_test)"
   ]
  },
  {
   "cell_type": "code",
   "execution_count": null,
   "metadata": {},
   "outputs": [],
   "source": [
    "X_test.info()"
   ]
  },
  {
   "cell_type": "code",
   "execution_count": null,
   "metadata": {},
   "outputs": [],
   "source": [
    "pca = PCA(n_components=2)\n",
    "X_pca = pca.fit(X_train).transform(X_train)\n",
    "len(X_pca)"
   ]
  },
  {
   "cell_type": "code",
   "execution_count": null,
   "metadata": {},
   "outputs": [],
   "source": [
    "pca.explained_variance_"
   ]
  },
  {
   "cell_type": "code",
   "execution_count": null,
   "metadata": {},
   "outputs": [],
   "source": [
    "pca.explained_variance_ratio_"
   ]
  },
  {
   "cell_type": "code",
   "execution_count": null,
   "metadata": {},
   "outputs": [],
   "source": [
    "pca.singular_values_"
   ]
  },
  {
   "cell_type": "code",
   "execution_count": null,
   "metadata": {},
   "outputs": [],
   "source": [
    "pca.mean_"
   ]
  },
  {
   "cell_type": "code",
   "execution_count": null,
   "metadata": {},
   "outputs": [],
   "source": [
    "type(train[\"Survived\"])"
   ]
  },
  {
   "cell_type": "code",
   "execution_count": null,
   "metadata": {},
   "outputs": [],
   "source": [
    "#sns.regplot(x=X_pca[:, 0], y=X_pca[:, 1], color=train[\"Survived\"], fit_reg=False, scatter=True)\n",
    "plt.scatter(X_pca[:, 0], X_pca[:, 1], c=train[\"Survived\"], cmap='flag')"
   ]
  },
  {
   "cell_type": "code",
   "execution_count": null,
   "metadata": {
    "collapsed": true
   },
   "outputs": [],
   "source": []
  }
 ],
 "metadata": {
  "kernelspec": {
   "display_name": "Python 3",
   "language": "python",
   "name": "python3"
  },
  "language_info": {
   "codemirror_mode": {
    "name": "ipython",
    "version": 3
   },
   "file_extension": ".py",
   "mimetype": "text/x-python",
   "name": "python",
   "nbconvert_exporter": "python",
   "pygments_lexer": "ipython3",
   "version": "3.6.3"
  }
 },
 "nbformat": 4,
 "nbformat_minor": 1
}
