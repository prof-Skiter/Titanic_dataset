{
 "cells": [
  {
   "cell_type": "code",
   "execution_count": null,
   "metadata": {
    "_cell_guid": "4a8a28f2-db42-4719-8410-62c631bf6638",
    "_uuid": "f38751f717474b3ce265f2ed65860679edc84df1",
    "collapsed": true
   },
   "outputs": [],
   "source": [
    "# data analysis and wrangling\n",
    "import pandas as pd\n",
    "import numpy as np\n",
    "import random as rnd\n",
    "\n",
    "# visualization\n",
    "import seaborn as sns\n",
    "import matplotlib.pyplot as plt\n",
    "%matplotlib inline\n",
    "sns.set()\n",
    "\n",
    "# machine learning\n",
    "from sklearn.linear_model import LogisticRegression\n",
    "from sklearn.decomposition import PCA\n",
    "\n",
    "from sklearn import linear_model, decomposition, datasets\n",
    "from sklearn.pipeline import Pipeline\n",
    "from sklearn.model_selection import GridSearchCV\n",
    "\n",
    "#helpers\n",
    "from sklearn.model_selection import learning_curve\n",
    "from sklearn.model_selection import ShuffleSplit\n",
    "cv = ShuffleSplit(n_splits=100, test_size=0.2, random_state=0)\n",
    "\n",
    "def plot_learning_curve(estimator, title, X, y, ylim=None, cv=None,\n",
    "                        n_jobs=1, train_sizes=np.linspace(.1, 1.0, 5)):\n",
    "    \"\"\"\n",
    "    Generate a simple plot of the test and training learning curve.\n",
    "\n",
    "    Parameters\n",
    "    ----------\n",
    "    estimator : object type that implements the \"fit\" and \"predict\" methods\n",
    "        An object of that type which is cloned for each validation.\n",
    "\n",
    "    title : string\n",
    "        Title for the chart.\n",
    "\n",
    "    X : array-like, shape (n_samples, n_features)\n",
    "        Training vector, where n_samples is the number of samples and\n",
    "        n_features is the number of features.\n",
    "\n",
    "    y : array-like, shape (n_samples) or (n_samples, n_features), optional\n",
    "        Target relative to X for classification or regression;\n",
    "        None for unsupervised learning.\n",
    "\n",
    "    ylim : tuple, shape (ymin, ymax), optional\n",
    "        Defines minimum and maximum yvalues plotted.\n",
    "\n",
    "    cv : int, cross-validation generator or an iterable, optional\n",
    "        Determines the cross-validation splitting strategy.\n",
    "        Possible inputs for cv are:\n",
    "          - None, to use the default 3-fold cross-validation,\n",
    "          - integer, to specify the number of folds.\n",
    "          - An object to be used as a cross-validation generator.\n",
    "          - An iterable yielding train/test splits.\n",
    "\n",
    "        For integer/None inputs, if ``y`` is binary or multiclass,\n",
    "        :class:`StratifiedKFold` used. If the estimator is not a classifier\n",
    "        or if ``y`` is neither binary nor multiclass, :class:`KFold` is used.\n",
    "\n",
    "        Refer :ref:`User Guide <cross_validation>` for the various\n",
    "        cross-validators that can be used here.\n",
    "\n",
    "    n_jobs : integer, optional\n",
    "        Number of jobs to run in parallel (default 1).\n",
    "    \"\"\"\n",
    "    plt.figure()\n",
    "    plt.title(title)\n",
    "    if ylim is not None:\n",
    "        plt.ylim(*ylim)\n",
    "    plt.xlabel(\"Training examples\")\n",
    "    plt.ylabel(\"Score\")\n",
    "    train_sizes, train_scores, test_scores = learning_curve(\n",
    "        estimator, X, y, cv=cv, n_jobs=n_jobs, train_sizes=train_sizes)\n",
    "    train_scores_mean = np.mean(train_scores, axis=1)\n",
    "    train_scores_std = np.std(train_scores, axis=1)\n",
    "    test_scores_mean = np.mean(test_scores, axis=1)\n",
    "    test_scores_std = np.std(test_scores, axis=1)\n",
    "    plt.grid()\n",
    "\n",
    "    plt.fill_between(train_sizes, train_scores_mean - train_scores_std,\n",
    "                     train_scores_mean + train_scores_std, alpha=0.1,\n",
    "                     color=\"r\")\n",
    "    plt.fill_between(train_sizes, test_scores_mean - test_scores_std,\n",
    "                     test_scores_mean + test_scores_std, alpha=0.1, color=\"g\")\n",
    "    plt.plot(train_sizes, train_scores_mean, 'o-', color=\"r\",\n",
    "             label=\"Training score\")\n",
    "    plt.plot(train_sizes, test_scores_mean, 'o-', color=\"g\",\n",
    "             label=\"Cross-validation score\")\n",
    "\n",
    "    plt.legend(loc=\"best\")\n",
    "    return plt"
   ]
  },
  {
   "cell_type": "code",
   "execution_count": null,
   "metadata": {
    "_cell_guid": "9ba23bc2-3c91-4ead-9cab-1a613610bc60",
    "_uuid": "5c2d016679c0b40932c8d1905f8b126210e31eae"
   },
   "outputs": [],
   "source": [
    "train = pd.read_csv('Data/train.csv')\n",
    "test = pd.read_csv('Data/test.csv')"
   ]
  },
  {
   "cell_type": "code",
   "execution_count": null,
   "metadata": {},
   "outputs": [],
   "source": [
    "train['Title'] = train.Name.str.extract(' ([A-Za-z]+)\\.', expand=False)\n",
    "test['Title'] = test.Name.str.extract(' ([A-Za-z]+)\\.', expand=False)\n",
    "train['Title'] = train['Title'].fillna('Mr').map( {'Sir':'c','Countess':'a','Ms':'a','Mme':'a','Lady':'a','Mlle':'a','Mrs':'a','Miss':'a','Master':'b','Col':'c','Major':'c','Dr':'c','Mr':'d','Jonkheer':'d','Don':'d','Rev':'d','Capt':'d','Dona':'a'} ).astype('category')\n",
    "test['Title'] = test['Title'].fillna('Mr').map( {'Sir':'c','Countess':'a','Ms':'a','Mme':'a','Lady':'a','Mlle':'a','Mrs':'a','Miss':'a','Master':'b','Col':'c','Major':'c','Dr':'c','Mr':'d','Jonkheer':'d','Don':'d','Rev':'d','Capt':'d','Dona':'a'} ).astype('category')"
   ]
  },
  {
   "cell_type": "code",
   "execution_count": null,
   "metadata": {
    "_cell_guid": "4e4b69ea-6d84-4573-bc06-7dd4cb7359a0",
    "_uuid": "f8d910417d7f44de9fb1a38806cb259e3bc7ca11",
    "scrolled": true
   },
   "outputs": [],
   "source": [
    "#train['Embarked'] = train['Embarked'].fillna('S').map( {'C': 0, 'Q': 1, 'S': 2} ).astype(int)\n",
    "#train['Sex'] = train['Sex'].map( {'female': 0, 'male': 1} ).astype(int)\n",
    "#test['Embarked'] = test['Embarked'].fillna('S').map({'C': 0, 'Q': 1, 'S': 2}).astype(int)\n",
    "#test['Sex'] = test['Sex'].map( {'female': 0, 'male': 1} ).astype(int)\n",
    "#test.fillna(12, inplace=True)"
   ]
  },
  {
   "cell_type": "code",
   "execution_count": null,
   "metadata": {},
   "outputs": [],
   "source": [
    "#train['Pclass'] = train.Pclass.astype('category')\n",
    "train['Sex'] = train.Sex.astype('category')\n",
    "train['SibSp'] = train.SibSp.astype('category')\n",
    "train['Parch'] = train.Parch.astype('category')\n",
    "train['Embarked'] = train.Embarked.astype('category')\n",
    "train['Age_group'] = pd.cut(train['Age'].fillna(0), 10)"
   ]
  },
  {
   "cell_type": "code",
   "execution_count": null,
   "metadata": {
    "collapsed": true
   },
   "outputs": [],
   "source": [
    "#test['Pclass'] = train.Pclass.astype('category')\n",
    "test['Sex'] = train.Sex.astype('category')\n",
    "test['SibSp'] = train.SibSp.astype('category')\n",
    "test['Parch'] = train.Parch.astype('category')\n",
    "test['Embarked'] = train.Embarked.astype('category')\n",
    "test['Age'] = test.Age.fillna(np.mean(test.Age))\n",
    "test['Age_group'] = pd.cut(test['Age'].fillna(0), 10)"
   ]
  },
  {
   "cell_type": "code",
   "execution_count": null,
   "metadata": {
    "_cell_guid": "23e54174-c4b4-4242-9669-3dcc578f4c38",
    "_uuid": "dcb1f2251c2c327181d76f72e1a3fee31c3a9675",
    "scrolled": true
   },
   "outputs": [],
   "source": [
    "X_train = train[['Pclass', 'Sex', 'SibSp', 'Parch', 'Embarked', 'Age_group', 'Title']]\n",
    "Y_train = train[\"Survived\"]\n",
    "X_test  = test[['Pclass', 'Sex', 'SibSp', 'Parch', 'Embarked', 'Age_group', 'Title']]\n",
    "X_train = pd.get_dummies(X_train)\n",
    "X_test = pd.get_dummies(X_test)"
   ]
  },
  {
   "cell_type": "code",
   "execution_count": null,
   "metadata": {},
   "outputs": [],
   "source": [
    "X_test.info()"
   ]
  },
  {
   "cell_type": "code",
   "execution_count": null,
   "metadata": {
    "_cell_guid": "8c428648-83c9-44aa-9b5c-9d70fbaa3ae0",
    "_uuid": "087dfa3495e9b41f96f3d4defb794baf031a062b"
   },
   "outputs": [],
   "source": [
    "# Logistic Regression\n",
    "logreg = LogisticRegression()\n",
    "logreg.fit(X_train, Y_train)\n",
    "Y_pred = logreg.predict(X_test)\n",
    "print(logreg.score(X_train, Y_train))"
   ]
  },
  {
   "cell_type": "code",
   "execution_count": null,
   "metadata": {},
   "outputs": [],
   "source": [
    "plot_learning_curve(logreg, \"Logistic Regression\", X_train, Y_train, ylim=(0.7, 1.01), cv=cv, n_jobs=4)\n",
    "plt.show()"
   ]
  },
  {
   "cell_type": "code",
   "execution_count": null,
   "metadata": {},
   "outputs": [],
   "source": [
    "pd.Series(logreg.coef_[0])"
   ]
  },
  {
   "cell_type": "code",
   "execution_count": null,
   "metadata": {},
   "outputs": [],
   "source": [
    "np.std(X_train, axis=0).reset_index(drop=True)*pd.Series(logreg.coef_[0])"
   ]
  },
  {
   "cell_type": "code",
   "execution_count": null,
   "metadata": {
    "_cell_guid": "406853a3-2e4b-49f8-888c-6b57904e6ab1",
    "_uuid": "846c3e8ff85c4e255516ae058e666613ba172972"
   },
   "outputs": [],
   "source": [
    "submit = pd.DataFrame({\n",
    "        \"PassengerId\": test[\"PassengerId\"],\n",
    "        \"Survived\": Y_pred\n",
    "    })\n",
    "submit.to_csv('logreg_best.csv', index = False)\n",
    "#submit"
   ]
  },
  {
   "cell_type": "code",
   "execution_count": null,
   "metadata": {},
   "outputs": [],
   "source": [
    "pca = PCA(n_components=12)\n",
    "pca.fit(X_train)\n",
    "for i in range(len(pca.explained_variance_ratio_)):\n",
    "    print(np.sum(pca.explained_variance_ratio_[0:i]))  \n",
    "#print(pca.singular_values_)"
   ]
  },
  {
   "cell_type": "code",
   "execution_count": null,
   "metadata": {},
   "outputs": [],
   "source": [
    "logistic = linear_model.LogisticRegression()\n",
    "pca = decomposition.PCA(n_components=15)\n",
    "pipe = Pipeline(steps=[('pca', pca), ('logistic', logistic)])\n",
    "plot_learning_curve(pipe, \"PCA+LogReg\", X_train, Y_train, ylim=(0.7, 1.01), cv=cv, n_jobs=4)\n",
    "plt.show()"
   ]
  },
  {
   "cell_type": "code",
   "execution_count": null,
   "metadata": {},
   "outputs": [],
   "source": [
    "pipe.fit(X_train, Y_train)\n",
    "Y_pred = pipe.predict(X_test)\n",
    "print(pipe.score(X_train, Y_train))"
   ]
  },
  {
   "cell_type": "code",
   "execution_count": null,
   "metadata": {
    "collapsed": true
   },
   "outputs": [],
   "source": []
  }
 ],
 "metadata": {
  "kernelspec": {
   "display_name": "Python 3",
   "language": "python",
   "name": "python3"
  },
  "language_info": {
   "codemirror_mode": {
    "name": "ipython",
    "version": 3
   },
   "file_extension": ".py",
   "mimetype": "text/x-python",
   "name": "python",
   "nbconvert_exporter": "python",
   "pygments_lexer": "ipython3",
   "version": "3.6.3"
  }
 },
 "nbformat": 4,
 "nbformat_minor": 1
}
