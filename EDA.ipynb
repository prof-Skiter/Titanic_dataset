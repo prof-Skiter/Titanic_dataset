{
  "cells": [
    {
      "metadata": {
        "collapsed": true,
        "_uuid": "f38751f717474b3ce265f2ed65860679edc84df1",
        "_cell_guid": "4a8a28f2-db42-4719-8410-62c631bf6638",
        "trusted": false
      },
      "cell_type": "code",
      "source": "# data analysis and wrangling\nimport pandas as pd\nimport numpy as np\nimport random as rnd\n\n# visualization\nimport seaborn as sns\nimport matplotlib.pyplot as plt\n%matplotlib inline\nsns.set()\n\n# machine learning\nfrom sklearn.linear_model import LogisticRegression\nfrom sklearn.svm import SVC, LinearSVC\nfrom sklearn.ensemble import RandomForestClassifier\nfrom sklearn.neighbors import KNeighborsClassifier\nfrom sklearn.naive_bayes import GaussianNB\nfrom sklearn.linear_model import Perceptron\nfrom sklearn.linear_model import SGDClassifier\nfrom sklearn.tree import DecisionTreeClassifier\n\n#helpers\nfrom sklearn.model_selection import learning_curve\nfrom sklearn.model_selection import ShuffleSplit\ncv = ShuffleSplit(n_splits=100, test_size=0.2, random_state=0)\n\ndef plot_learning_curve(estimator, title, X, y, ylim=None, cv=None,\n                        n_jobs=1, train_sizes=np.linspace(.1, 1.0, 5)):\n    \"\"\"\n    Generate a simple plot of the test and training learning curve.\n\n    Parameters\n    ----------\n    estimator : object type that implements the \"fit\" and \"predict\" methods\n        An object of that type which is cloned for each validation.\n\n    title : string\n        Title for the chart.\n\n    X : array-like, shape (n_samples, n_features)\n        Training vector, where n_samples is the number of samples and\n        n_features is the number of features.\n\n    y : array-like, shape (n_samples) or (n_samples, n_features), optional\n        Target relative to X for classification or regression;\n        None for unsupervised learning.\n\n    ylim : tuple, shape (ymin, ymax), optional\n        Defines minimum and maximum yvalues plotted.\n\n    cv : int, cross-validation generator or an iterable, optional\n        Determines the cross-validation splitting strategy.\n        Possible inputs for cv are:\n          - None, to use the default 3-fold cross-validation,\n          - integer, to specify the number of folds.\n          - An object to be used as a cross-validation generator.\n          - An iterable yielding train/test splits.\n\n        For integer/None inputs, if ``y`` is binary or multiclass,\n        :class:`StratifiedKFold` used. If the estimator is not a classifier\n        or if ``y`` is neither binary nor multiclass, :class:`KFold` is used.\n\n        Refer :ref:`User Guide <cross_validation>` for the various\n        cross-validators that can be used here.\n\n    n_jobs : integer, optional\n        Number of jobs to run in parallel (default 1).\n    \"\"\"\n    plt.figure()\n    plt.title(title)\n    if ylim is not None:\n        plt.ylim(*ylim)\n    plt.xlabel(\"Training examples\")\n    plt.ylabel(\"Score\")\n    train_sizes, train_scores, test_scores = learning_curve(\n        estimator, X, y, cv=cv, n_jobs=n_jobs, train_sizes=train_sizes)\n    train_scores_mean = np.mean(train_scores, axis=1)\n    train_scores_std = np.std(train_scores, axis=1)\n    test_scores_mean = np.mean(test_scores, axis=1)\n    test_scores_std = np.std(test_scores, axis=1)\n    plt.grid()\n\n    plt.fill_between(train_sizes, train_scores_mean - train_scores_std,\n                     train_scores_mean + train_scores_std, alpha=0.1,\n                     color=\"r\")\n    plt.fill_between(train_sizes, test_scores_mean - test_scores_std,\n                     test_scores_mean + test_scores_std, alpha=0.1, color=\"g\")\n    plt.plot(train_sizes, train_scores_mean, 'o-', color=\"r\",\n             label=\"Training score\")\n    plt.plot(train_sizes, test_scores_mean, 'o-', color=\"g\",\n             label=\"Cross-validation score\")\n\n    plt.legend(loc=\"best\")\n    return plt",
      "execution_count": null,
      "outputs": []
    },
    {
      "metadata": {
        "_uuid": "3eabaa118f71dba8c09e858a46360bf2c3daf96d",
        "collapsed": true,
        "_cell_guid": "5edf0957-7e18-4172-8832-e267e60a533e",
        "trusted": false
      },
      "cell_type": "code",
      "source": "from subprocess import check_output\nprint(check_output([\"ls\", \"..\"]).decode(\"utf8\"))",
      "execution_count": null,
      "outputs": []
    },
    {
      "metadata": {
        "_uuid": "5c2d016679c0b40932c8d1905f8b126210e31eae",
        "collapsed": true,
        "_cell_guid": "9ba23bc2-3c91-4ead-9cab-1a613610bc60",
        "trusted": false
      },
      "cell_type": "code",
      "source": "train = pd.read_csv('../input/train.csv')\ntest = pd.read_csv('../input/test.csv')\ntrain.head()",
      "execution_count": null,
      "outputs": []
    },
    {
      "metadata": {
        "_uuid": "0e6c3fe0642587539a7ab57c9555e7d6da911e6c",
        "collapsed": true,
        "_cell_guid": "181c6a62-5ee8-46a2-829c-214d969ff2ee",
        "scrolled": true,
        "trusted": false
      },
      "cell_type": "code",
      "source": "train.info()\nprint('_'*40)\ntest.info()",
      "execution_count": null,
      "outputs": []
    },
    {
      "metadata": {
        "_uuid": "e366e06b72abb8316cdd3492884e060e41e0418b",
        "collapsed": true,
        "_cell_guid": "ff775e1c-6162-46e2-8492-659d47b63d3e",
        "scrolled": false,
        "trusted": false
      },
      "cell_type": "code",
      "source": "train.describe(include='all')",
      "execution_count": null,
      "outputs": []
    },
    {
      "metadata": {
        "_uuid": "144416be129dd4f83fecc5155a3fc6f3bcb06ac2",
        "collapsed": true,
        "_cell_guid": "4d532996-e76d-48b5-9b17-86d33828e4c0",
        "trusted": false
      },
      "cell_type": "code",
      "source": "train.corr(method='pearson')",
      "execution_count": null,
      "outputs": []
    },
    {
      "metadata": {
        "_uuid": "fbbda22fb0fdde41eabb10a6d4962322759269e4",
        "collapsed": true,
        "_cell_guid": "b519a804-83bb-4964-9792-f7624266305d",
        "trusted": false
      },
      "cell_type": "code",
      "source": "train.corr(method='kendall')",
      "execution_count": null,
      "outputs": []
    },
    {
      "metadata": {
        "_uuid": "f83e8ac01bb3b6d8e25ce8644595b41bf8da6721",
        "collapsed": true,
        "_cell_guid": "74b02479-f410-4642-8fcb-9217a942bab1",
        "trusted": false
      },
      "cell_type": "code",
      "source": "train.corr(method='spearman')",
      "execution_count": null,
      "outputs": []
    },
    {
      "metadata": {
        "collapsed": true,
        "_uuid": "5355348f1070b82a0e974964fded5aa7ce41f47f",
        "_cell_guid": "a4d50d45-8699-4e22-b030-80239bf3736f",
        "trusted": false
      },
      "cell_type": "code",
      "source": "combined = train.append(test)",
      "execution_count": null,
      "outputs": []
    },
    {
      "metadata": {
        "_uuid": "9f631d1fdd8a4ce463c02ab857f553625373f964",
        "collapsed": true,
        "_cell_guid": "a93a6d7c-0e8c-4761-8bf2-2673e94a5d59",
        "trusted": false
      },
      "cell_type": "code",
      "source": "combined",
      "execution_count": null,
      "outputs": []
    },
    {
      "metadata": {
        "_uuid": "f0626ad40d50c8397f9245a85a44ffa12dea2eaa",
        "collapsed": true,
        "_cell_guid": "ea3ea6e8-58e7-40be-8707-942c86d5b4ba",
        "trusted": false
      },
      "cell_type": "code",
      "source": "combined['Title'] = combined.Name.str.extract(' ([A-Za-z]+)\\.', expand=False)\n\npd.crosstab(combined['Title'], combined['Sex'])",
      "execution_count": null,
      "outputs": []
    },
    {
      "metadata": {
        "collapsed": true,
        "_uuid": "f8d910417d7f44de9fb1a38806cb259e3bc7ca11",
        "_cell_guid": "4e4b69ea-6d84-4573-bc06-7dd4cb7359a0",
        "scrolled": true,
        "trusted": false
      },
      "cell_type": "code",
      "source": "train['Embarked'] = train['Embarked'].fillna('S').map( {'S': 0, 'C': 1, 'Q': 2} ).astype(int)\ntrain['Sex'] = train['Sex'].map( {'female': 0, 'male': 1} ).astype(int)\ntest['Embarked'] = test['Embarked'].fillna('S').map( {'S': 0, 'C': 1, 'Q': 2} ).astype(int)\ntest['Sex'] = test['Sex'].map( {'female': 0, 'male': 1} ).astype(int)\ntest.fillna(12, inplace=True)",
      "execution_count": null,
      "outputs": []
    },
    {
      "metadata": {
        "_uuid": "dcb1f2251c2c327181d76f72e1a3fee31c3a9675",
        "collapsed": true,
        "_cell_guid": "23e54174-c4b4-4242-9669-3dcc578f4c38",
        "scrolled": true,
        "trusted": false
      },
      "cell_type": "code",
      "source": "X_test  = test[['Pclass', 'Sex', 'SibSp', 'Parch', 'Fare', 'Embarked']]\nX_train = train[['Pclass', 'Sex', 'SibSp', 'Parch', 'Fare', 'Embarked']]\nY_train = train[[\"Survived\"]]\nY_train",
      "execution_count": null,
      "outputs": []
    },
    {
      "metadata": {
        "_uuid": "087dfa3495e9b41f96f3d4defb794baf031a062b",
        "collapsed": true,
        "_cell_guid": "8c428648-83c9-44aa-9b5c-9d70fbaa3ae0",
        "trusted": false
      },
      "cell_type": "code",
      "source": "# Logistic Regression\nlogreg = LogisticRegression()\nlogreg.fit(X_train, Y_train)\nY_pred = logreg.predict(X_test)\nprint(logreg.score(X_train, Y_train))\nplot_learning_curve(logreg, \"Logistic Regression\", X_train, Y_train, ylim=(0.7, 1.01), cv=cv, n_jobs=4)\nplt.show()",
      "execution_count": null,
      "outputs": []
    },
    {
      "metadata": {
        "_uuid": "62d043c259110591e701a552c0ec2d5e8e0f56c0",
        "collapsed": true,
        "_cell_guid": "d2bfe1e6-5e40-4c09-8786-a58c2c937c71",
        "scrolled": true,
        "trusted": false
      },
      "cell_type": "code",
      "source": "# Support Vector Machines\nsvc = SVC()\nsvc.fit(X_train, Y_train)\nY_pred = svc.predict(X_test)\nprint(svc.score(X_train, Y_train))\nplot_learning_curve(svc, \"SVC\", X_train, Y_train, ylim=(0.7, 1.01), cv=cv, n_jobs=4)\nplt.show()",
      "execution_count": null,
      "outputs": []
    },
    {
      "metadata": {
        "_uuid": "4ddc9e9e1c35533fdf0faf7ba074cf8b5c9c7fb3",
        "collapsed": true,
        "_cell_guid": "06952f06-d917-4f42-a2e0-24f7009507d0",
        "trusted": false
      },
      "cell_type": "code",
      "source": "knn = KNeighborsClassifier(n_neighbors = 3)\nknn.fit(X_train, Y_train)\nY_pred = knn.predict(X_test)\nprint(knn.score(X_train, Y_train))\nplot_learning_curve(knn, \"KNeighbors Classifier\", X_train, Y_train, ylim=(0.7, 1.01), cv=cv, n_jobs=4)\nplt.show()",
      "execution_count": null,
      "outputs": []
    },
    {
      "metadata": {
        "_uuid": "0af95c330a14856738fc6a26dacd824682fa2f63",
        "collapsed": true,
        "_cell_guid": "bea4eedd-0008-44e2-a4ad-f85673287266",
        "trusted": false
      },
      "cell_type": "code",
      "source": "# Gaussian Naive Bayes\ngaussian = GaussianNB()\ngaussian.fit(X_train, Y_train)\nY_pred = gaussian.predict(X_test)\nprint(gaussian.score(X_train, Y_train))\nplot_learning_curve(gaussian, \"Gaussian NB\", X_train, Y_train, ylim=(0.7, 1.01), cv=cv, n_jobs=4)\nplt.show()",
      "execution_count": null,
      "outputs": []
    },
    {
      "metadata": {
        "_uuid": "86f746ee784fe070e0c5ae9731fcf17ec42611c0",
        "collapsed": true,
        "_cell_guid": "13f33346-d2a8-4553-bbdc-cb89d26756d8",
        "trusted": false
      },
      "cell_type": "code",
      "source": "# Perceptron\nperceptron = Perceptron()\nperceptron.fit(X_train, Y_train)\nY_pred = perceptron.predict(X_test)\nprint(perceptron.score(X_train, Y_train))\nplot_learning_curve(perceptron, \"Perceptron\", X_train, Y_train, ylim=(0.7, 1.01), cv=cv, n_jobs=4)\nplt.show()",
      "execution_count": null,
      "outputs": []
    },
    {
      "metadata": {
        "_uuid": "f03370ea59b069ef651727f4c8ed61f1e7c1590b",
        "collapsed": true,
        "_cell_guid": "eae1f1b5-7686-4aac-bd6b-62525e1906ee",
        "trusted": false
      },
      "cell_type": "code",
      "source": "# Linear SVC\nlinear_svc = LinearSVC()\nlinear_svc.fit(X_train, Y_train)\nY_pred = linear_svc.predict(X_test)\nprint(linear_svc.score(X_train, Y_train))\nplot_learning_curve(linear_svc, \"Linear SVC\", X_train, Y_train, ylim=(0.7, 1.01), cv=cv, n_jobs=4)\nplt.show()",
      "execution_count": null,
      "outputs": []
    },
    {
      "metadata": {
        "_uuid": "0fd752eff8b4bb213492f8c0cf8860caf8266181",
        "collapsed": true,
        "_cell_guid": "d8a5aac4-7b41-4ffe-b772-e5ec2346a704",
        "trusted": false
      },
      "cell_type": "code",
      "source": "# Stochastic Gradient Descent\nsgd = SGDClassifier()\nsgd.fit(X_train, Y_train)\nY_pred = sgd.predict(X_test)\nprint(sgd.score(X_train, Y_train))\nplot_learning_curve(sgd, \"SGD Classifier\", X_train, Y_train, ylim=(0.7, 1.01), cv=cv, n_jobs=4)\nplt.show()",
      "execution_count": null,
      "outputs": []
    },
    {
      "metadata": {
        "_uuid": "a255297f9ce7451208fae01fb1d573b61c339565",
        "collapsed": true,
        "_cell_guid": "bf28e175-cd6f-4923-916f-76ca1b9830bf",
        "trusted": false
      },
      "cell_type": "code",
      "source": "# Decision Tree\ndecision_tree = DecisionTreeClassifier()\ndecision_tree.fit(X_train, Y_train)\nY_pred = decision_tree.predict(X_test)\nprint(decision_tree.score(X_train, Y_train))\nplot_learning_curve(decision_tree, \"Decision Tree Classifier\", X_train, Y_train, ylim=(0.7, 1.01), cv=cv, n_jobs=4)\nplt.show()",
      "execution_count": null,
      "outputs": []
    },
    {
      "metadata": {
        "_uuid": "05a7cc26e1e2be6a812b6379773aebbfdf8aede2",
        "collapsed": true,
        "_cell_guid": "f9cbc80b-e892-45ff-b12f-c133622b3754",
        "trusted": false
      },
      "cell_type": "code",
      "source": "# Random Forest\nrandom_forest = RandomForestClassifier(n_estimators=100)\nrandom_forest.fit(X_train, Y_train)\nY_pred = random_forest.predict(X_test)\nprint(random_forest.score(X_train, Y_train))\nplot_learning_curve(random_forest, \"Random Forest Classifier\", X_train, Y_train, ylim=(0.7, 1.01), cv=cv, n_jobs=4)\nplt.show()",
      "execution_count": null,
      "outputs": []
    },
    {
      "metadata": {
        "_uuid": "846c3e8ff85c4e255516ae058e666613ba172972",
        "collapsed": true,
        "_cell_guid": "406853a3-2e4b-49f8-888c-6b57904e6ab1",
        "trusted": false
      },
      "cell_type": "code",
      "source": "submit = pd.DataFrame({\n        \"PassengerId\": test[\"PassengerId\"],\n        \"Survived\": Y_pred\n    })\n#submit.to_csv('submission.csv', index = False)\nsubmit",
      "execution_count": null,
      "outputs": []
    },
    {
      "metadata": {
        "collapsed": true,
        "_uuid": "1e94f084057917a146c6d63dc9f8938679d70ab4",
        "_cell_guid": "173c5842-36d9-48dd-bc2e-be76c7a23e6f",
        "trusted": false
      },
      "cell_type": "code",
      "source": "",
      "execution_count": null,
      "outputs": []
    }
  ],
  "metadata": {
    "language_info": {
      "codemirror_mode": {
        "version": 3,
        "name": "ipython"
      },
      "pygments_lexer": "ipython3",
      "nbconvert_exporter": "python",
      "version": "3.6.3",
      "mimetype": "text/x-python",
      "file_extension": ".py",
      "name": "python"
    },
    "kernelspec": {
      "display_name": "Python 3",
      "language": "python",
      "name": "python3"
    }
  },
  "nbformat": 4,
  "nbformat_minor": 1
}